{
 "cells": [
  {
   "cell_type": "code",
   "execution_count": 1,
   "metadata": {},
   "outputs": [],
   "source": [
    "# Imports\n",
    "import os\n",
    "import warnings\n",
    "import tensorflow as tf\n",
    "import sklearn\n",
    "import numpy as np\n",
    "from sklearn.metrics import confusion_matrix\n",
    "from tensorflow.keras.utils import to_categorical\n",
    "from tensorflow.keras.preprocessing import sequence\n",
    "from tensorflow.keras import layers, models\n",
    "from tensorflow.keras.models import Sequential\n",
    "from tensorflow import keras\n",
    "from tensorflow.keras import layers\n",
    "from tensorflow.keras import optimizers\n",
    "from tensorflow.keras.layers import SimpleRNN, Dense\n",
    "from tensorflow.keras.layers import Bidirectional\n",
    "from tensorflow.compat.v1 import ConfigProto\n",
    "from tensorflow.compat.v1 import InteractiveSession\n",
    "from matplotlib import pyplot\n",
    "from data_repository import DataRepository\n",
    "import sys\n",
    "import tensorflow.keras as K\n",
    "\n",
    "\n",
    "# Ignore future warnings\n",
    "warnings.simplefilter(action='ignore', category=FutureWarning)\n",
    "\n",
    "# Root CSV files directory\n",
    "dirname = './data/absolute/2D/'\n",
    "unseen_dirname = './data/absolute/2D_unknown/'\n",
    "\n"
   ]
  },
  {
   "cell_type": "code",
   "execution_count": 2,
   "metadata": {},
   "outputs": [
    {
     "name": "stdout",
     "output_type": "stream",
     "text": [
      "Num GPUs: 1\n"
     ]
    }
   ],
   "source": [
    "# GPU-initialization\n",
    "session = None\n",
    "if (session):\n",
    "    session.close()\n",
    "physical_devices = tf.config.list_physical_devices('GPU') \n",
    "print(\"Num GPUs:\", len(physical_devices)) \n",
    "\n",
    "config = ConfigProto()\n",
    "config.gpu_options.per_process_gpu_memory_fraction = 0.3\n",
    "config.gpu_options.allow_growth = True\n",
    "session = InteractiveSession(config=config)"
   ]
  },
  {
   "cell_type": "code",
   "execution_count": 3,
   "metadata": {},
   "outputs": [
    {
     "name": "stdout",
     "output_type": "stream",
     "text": [
      "['Computer', 'Deutschland', 'du', 'Haben', 'Hallo', 'ich', 'Mainz', 'Software', 'unser', 'Welt', 'zeigen']\n",
      "['unknown']\n",
      "num_classes 11\n"
     ]
    }
   ],
   "source": [
    "# Load data and print summary, if desired\n",
    "repo = DataRepository(dirname)\n",
    "X_train, X_val, X_test, y_train, y_val, y_test, labels = repo.getForTraining()\n",
    "X_unseen = repo.getUnseenX(unseen_dirname)\n",
    "num_classes = repo.numClasses\n",
    "print('num_classes', num_classes)"
   ]
  },
  {
   "cell_type": "code",
   "execution_count": 4,
   "metadata": {},
   "outputs": [
    {
     "name": "stdout",
     "output_type": "stream",
     "text": [
      "{0: 'Computer', 1: 'Deutschland', 2: 'du', 3: 'Haben', 4: 'Hallo', 5: 'ich', 6: 'Mainz', 7: 'Software', 8: 'unser', 9: 'Welt', 10: 'zeigen'}\n"
     ]
    }
   ],
   "source": [
    "#load tokens\n",
    "tokens = os.listdir(dirname)\n",
    "tokens = sorted(tokens, key=str.casefold) \n",
    "token_labels = {i:tokens[i] for i in range(0, len(tokens))}\n",
    "print(token_labels)"
   ]
  },
  {
   "cell_type": "code",
   "execution_count": 5,
   "metadata": {},
   "outputs": [
    {
     "name": "stdout",
     "output_type": "stream",
     "text": [
      "Model: \"model\"\n",
      "__________________________________________________________________________________________________\n",
      "Layer (type)                    Output Shape         Param #     Connected to                     \n",
      "==================================================================================================\n",
      "input_1 (InputLayer)            [(None, 100, 86)]    0                                            \n",
      "__________________________________________________________________________________________________\n",
      "bidirectional (Bidirectional)   (None, 100, 256)     220160      input_1[0][0]                    \n",
      "__________________________________________________________________________________________________\n",
      "dropout (Dropout)               (None, 100, 256)     0           bidirectional[0][0]              \n",
      "__________________________________________________________________________________________________\n",
      "bidirectional_1 (Bidirectional) (None, 100, 512)     1050624     dropout[0][0]                    \n",
      "__________________________________________________________________________________________________\n",
      "dropout_1 (Dropout)             (None, 100, 512)     0           bidirectional_1[0][0]            \n",
      "__________________________________________________________________________________________________\n",
      "bidirectional_2 (Bidirectional) (None, 100, 512)     1574912     dropout_1[0][0]                  \n",
      "__________________________________________________________________________________________________\n",
      "dropout_2 (Dropout)             (None, 100, 512)     0           bidirectional_2[0][0]            \n",
      "__________________________________________________________________________________________________\n",
      "bidirectional_3 (Bidirectional) (None, 100, 256)     656384      dropout_2[0][0]                  \n",
      "__________________________________________________________________________________________________\n",
      "dropout_3 (Dropout)             (None, 100, 256)     0           bidirectional_3[0][0]            \n",
      "__________________________________________________________________________________________________\n",
      "bidirectional_4 (Bidirectional) (None, 512)          1050624     dropout_3[0][0]                  \n",
      "__________________________________________________________________________________________________\n",
      "dropout_4 (Dropout)             (None, 512)          0           bidirectional_4[0][0]            \n",
      "__________________________________________________________________________________________________\n",
      "class_output (Dense)            (None, 11)           5643        dropout_4[0][0]                  \n",
      "__________________________________________________________________________________________________\n",
      "reject_output (Dense)           (None, 11)           5643        dropout_4[0][0]                  \n",
      "==================================================================================================\n",
      "Total params: 4,563,990\n",
      "Trainable params: 4,563,990\n",
      "Non-trainable params: 0\n",
      "__________________________________________________________________________________________________\n"
     ]
    }
   ],
   "source": [
    "# Model\n",
    "dropout = 0.2\n",
    "nodesizes = [256, 256, 128]\n",
    "\n",
    "inputs = keras.Input(shape=(X_train.shape[1], X_train.shape[2]))\n",
    "\n",
    "lstm = Bidirectional(layers.LSTM(128, return_sequences=True))(inputs)\n",
    "lstm = layers.Dropout(rate=dropout)(lstm)  \n",
    "\n",
    "for i in range(0,3):    #number of layers random between 1 an 3\n",
    "    lstm = Bidirectional(layers.LSTM(nodesizes[i],return_sequences=True))(lstm)\n",
    "    lstm = layers.Dropout(rate=dropout)(lstm)\n",
    "\n",
    "lstm = Bidirectional(layers.LSTM(256))(lstm)\n",
    "lstm = layers.Dropout(rate=dropout)(lstm)\n",
    "class_output = layers.Dense(num_classes, activation='softmax', name='class_output')(lstm)\n",
    "\n",
    "reject_output = layers.Dense(num_classes, activation='sigmoid', name='reject_output')(lstm)\n",
    "\n",
    "model = keras.models.Model(inputs=inputs, outputs=[class_output, reject_output])\n",
    "# Plot the model graph\n",
    "#keras.utils.plot_model(model, 'nn_graph.png', show_shapes=True)\n",
    "\n",
    "model.compile(loss={\n",
    "    'class_output': 'categorical_crossentropy', \n",
    "    'reject_output': 'binary_crossentropy'\n",
    "    },\n",
    "    optimizer='Adamax',\n",
    "    metrics=['accuracy',tf.keras.metrics.Precision(),tf.keras.metrics.Recall()])\n",
    "\n",
    "model.summary()\n"
   ]
  },
  {
   "cell_type": "code",
   "execution_count": 6,
   "metadata": {},
   "outputs": [
    {
     "name": "stdout",
     "output_type": "stream",
     "text": [
      "Epoch 1/10\n",
      "WARNING:tensorflow:From /home/signlang/anaconda3/lib/python3.8/site-packages/tensorflow/python/ops/resource_variable_ops.py:1813: calling BaseResourceVariable.__init__ (from tensorflow.python.ops.resource_variable_ops) with constraint is deprecated and will be removed in a future version.\n",
      "Instructions for updating:\n",
      "If using Keras pass *_constraint arguments to layers.\n",
      "19/19 [==============================] - 3s 174ms/step - loss: 2.3997 - class_output_loss: 1.9549 - reject_output_loss: 0.4448 - class_output_accuracy: 0.3232 - class_output_precision: 0.4857 - class_output_recall: 0.0305 - reject_output_accuracy: 0.2370 - reject_output_precision: 0.1858 - reject_output_recall: 0.1508 - val_loss: 1.9976 - val_class_output_loss: 1.6902 - val_reject_output_loss: 0.3074 - val_class_output_accuracy: 0.3548 - val_class_output_precision: 0.8000 - val_class_output_recall: 0.0645 - val_reject_output_accuracy: 0.4032 - val_reject_output_precision: 0.0000e+00 - val_reject_output_recall: 0.0000e+00\n",
      "Epoch 2/10\n",
      "19/19 [==============================] - 1s 63ms/step - loss: 1.8847 - class_output_loss: 1.6066 - reject_output_loss: 0.2782 - class_output_accuracy: 0.3734 - class_output_precision: 0.6835 - class_output_recall: 0.1706 - reject_output_accuracy: 0.3519 - reject_output_precision: 0.5882 - reject_output_recall: 0.0180 - val_loss: 1.7369 - val_class_output_loss: 1.4825 - val_reject_output_loss: 0.2544 - val_class_output_accuracy: 0.4731 - val_class_output_precision: 0.6429 - val_class_output_recall: 0.1935 - val_reject_output_accuracy: 0.3817 - val_reject_output_precision: 0.0000e+00 - val_reject_output_recall: 0.0000e+00\n",
      "Epoch 3/10\n",
      "19/19 [==============================] - 1s 66ms/step - loss: 1.6785 - class_output_loss: 1.4325 - reject_output_loss: 0.2460 - class_output_accuracy: 0.4614 - class_output_precision: 0.6402 - class_output_recall: 0.2460 - reject_output_accuracy: 0.4039 - reject_output_precision: 0.7125 - reject_output_recall: 0.1023 - val_loss: 1.5929 - val_class_output_loss: 1.3634 - val_reject_output_loss: 0.2295 - val_class_output_accuracy: 0.5108 - val_class_output_precision: 0.6316 - val_class_output_recall: 0.1935 - val_reject_output_accuracy: 0.4086 - val_reject_output_precision: 0.7727 - val_reject_output_recall: 0.0914\n",
      "Epoch 4/10\n",
      "19/19 [==============================] - 1s 65ms/step - loss: 1.5524 - class_output_loss: 1.3297 - reject_output_loss: 0.2227 - class_output_accuracy: 0.4865 - class_output_precision: 0.6600 - class_output_recall: 0.2962 - reject_output_accuracy: 0.4578 - reject_output_precision: 0.8119 - reject_output_recall: 0.1472 - val_loss: 1.5614 - val_class_output_loss: 1.3424 - val_reject_output_loss: 0.2190 - val_class_output_accuracy: 0.5161 - val_class_output_precision: 0.6429 - val_class_output_recall: 0.2903 - val_reject_output_accuracy: 0.4785 - val_reject_output_precision: 0.7561 - val_reject_output_recall: 0.1667\n",
      "Epoch 5/10\n",
      "19/19 [==============================] - 1s 65ms/step - loss: 1.5067 - class_output_loss: 1.2917 - reject_output_loss: 0.2149 - class_output_accuracy: 0.5081 - class_output_precision: 0.6836 - class_output_recall: 0.3375 - reject_output_accuracy: 0.5009 - reject_output_precision: 0.7554 - reject_output_recall: 0.1885 - val_loss: 1.4558 - val_class_output_loss: 1.2476 - val_reject_output_loss: 0.2082 - val_class_output_accuracy: 0.5591 - val_class_output_precision: 0.7216 - val_class_output_recall: 0.3763 - val_reject_output_accuracy: 0.4731 - val_reject_output_precision: 0.7778 - val_reject_output_recall: 0.1882\n",
      "Epoch 6/10\n",
      "19/19 [==============================] - 1s 65ms/step - loss: 1.3936 - class_output_loss: 1.1872 - reject_output_loss: 0.2063 - class_output_accuracy: 0.5799 - class_output_precision: 0.7863 - class_output_recall: 0.3698 - reject_output_accuracy: 0.5171 - reject_output_precision: 0.8058 - reject_output_recall: 0.2011 - val_loss: 1.2477 - val_class_output_loss: 1.0523 - val_reject_output_loss: 0.1954 - val_class_output_accuracy: 0.6613 - val_class_output_precision: 0.7739 - val_class_output_recall: 0.4785 - val_reject_output_accuracy: 0.5860 - val_reject_output_precision: 0.8525 - val_reject_output_recall: 0.2796\n",
      "Epoch 7/10\n",
      "19/19 [==============================] - 1s 65ms/step - loss: 1.2183 - class_output_loss: 1.0289 - reject_output_loss: 0.1894 - class_output_accuracy: 0.6122 - class_output_precision: 0.7341 - class_output_recall: 0.4560 - reject_output_accuracy: 0.5566 - reject_output_precision: 0.8541 - reject_output_recall: 0.2837 - val_loss: 1.2361 - val_class_output_loss: 1.0499 - val_reject_output_loss: 0.1862 - val_class_output_accuracy: 0.6183 - val_class_output_precision: 0.7206 - val_class_output_recall: 0.5269 - val_reject_output_accuracy: 0.6183 - val_reject_output_precision: 0.8209 - val_reject_output_recall: 0.2957\n",
      "Epoch 8/10\n",
      "19/19 [==============================] - 1s 65ms/step - loss: 1.1315 - class_output_loss: 0.9543 - reject_output_loss: 0.1772 - class_output_accuracy: 0.6391 - class_output_precision: 0.7732 - class_output_recall: 0.5081 - reject_output_accuracy: 0.6050 - reject_output_precision: 0.8455 - reject_output_recall: 0.3339 - val_loss: 1.1853 - val_class_output_loss: 1.0068 - val_reject_output_loss: 0.1785 - val_class_output_accuracy: 0.6720 - val_class_output_precision: 0.7124 - val_class_output_recall: 0.5860 - val_reject_output_accuracy: 0.6398 - val_reject_output_precision: 0.7475 - val_reject_output_recall: 0.3978\n",
      "Epoch 9/10\n",
      "19/19 [==============================] - 1s 64ms/step - loss: 1.0764 - class_output_loss: 0.9065 - reject_output_loss: 0.1699 - class_output_accuracy: 0.6499 - class_output_precision: 0.7758 - class_output_recall: 0.5404 - reject_output_accuracy: 0.6373 - reject_output_precision: 0.8099 - reject_output_recall: 0.3824 - val_loss: 1.0694 - val_class_output_loss: 0.9043 - val_reject_output_loss: 0.1651 - val_class_output_accuracy: 0.6720 - val_class_output_precision: 0.7639 - val_class_output_recall: 0.5914 - val_reject_output_accuracy: 0.6452 - val_reject_output_precision: 0.8191 - val_reject_output_recall: 0.4140\n",
      "Epoch 10/10\n",
      "19/19 [==============================] - 1s 65ms/step - loss: 1.0127 - class_output_loss: 0.8535 - reject_output_loss: 0.1593 - class_output_accuracy: 0.6930 - class_output_precision: 0.7852 - class_output_recall: 0.5907 - reject_output_accuracy: 0.6715 - reject_output_precision: 0.8197 - reject_output_recall: 0.4327 - val_loss: 1.0143 - val_class_output_loss: 0.8603 - val_reject_output_loss: 0.1540 - val_class_output_accuracy: 0.6828 - val_class_output_precision: 0.7703 - val_class_output_recall: 0.6129 - val_reject_output_accuracy: 0.6774 - val_reject_output_precision: 0.8316 - val_reject_output_recall: 0.4247\n"
     ]
    }
   ],
   "source": [
    "# Train\n",
    "history = model.fit(\n",
    "    X_train, [y_train, y_train], \n",
    "    epochs=10, \n",
    "    batch_size=30, \n",
    "    validation_data=(X_val,[y_val, y_val]), \n",
    "    shuffle=False)"
   ]
  },
  {
   "cell_type": "code",
   "execution_count": 7,
   "metadata": {},
   "outputs": [
    {
     "name": "stdout",
     "output_type": "stream",
     "text": [
      "6/6 - 0s - loss: 1.0418 - class_output_loss: 0.8877 - reject_output_loss: 0.1541 - class_output_accuracy: 0.6774 - class_output_precision: 0.8143 - class_output_recall: 0.6129 - reject_output_accuracy: 0.6774 - reject_output_precision: 0.8571 - reject_output_recall: 0.4194\n"
     ]
    }
   ],
   "source": [
    "#Test accuracy\n",
    "y_eval = model.evaluate(X_test, [y_test, y_test], verbose=2)"
   ]
  },
  {
   "cell_type": "code",
   "execution_count": 8,
   "metadata": {},
   "outputs": [],
   "source": [
    "y_pred = model.predict(X_test)[0]\n",
    "\n",
    "y_pred_integer = np.argmax(y_pred, axis=1)\n",
    "y_test_integer = np.argmax(y_test, axis=1)\n",
    "y_pred_name = ([token_labels[p] for p in y_pred_integer])\n",
    "y_test_name = ([token_labels[p] for p in y_test_integer])"
   ]
  },
  {
   "cell_type": "code",
   "execution_count": 9,
   "metadata": {},
   "outputs": [],
   "source": [
    "# Decode one_hot\n",
    "\n",
    "y_train_dec = [np.argmax(encoded) for encoded in y_train]\n",
    "y_train_dec = np.array(y_train_dec)"
   ]
  },
  {
   "cell_type": "code",
   "execution_count": 10,
   "metadata": {},
   "outputs": [
    {
     "name": "stdout",
     "output_type": "stream",
     "text": [
      "(557, 11)\n",
      "0\n"
     ]
    }
   ],
   "source": [
    "# predict on training examples for calculate standard deviation\n",
    "seen_train_X_pred = np.array(model.predict(X_train)[1])"
   ]
  },
  {
   "cell_type": "code",
   "execution_count": 11,
   "metadata": {},
   "outputs": [],
   "source": [
    "# Fit gaussian model\n",
    "from scipy.stats import norm as dist_model\n",
    "def fit(prob_pos_X):\n",
    "    prob_pos = [p for p in prob_pos_X]+[2-p for p in prob_pos_X]\n",
    "    pos_mu, pos_std = dist_model.fit(prob_pos)\n",
    "    return pos_mu, pos_std"
   ]
  },
  {
   "cell_type": "code",
   "execution_count": 45,
   "metadata": {},
   "outputs": [],
   "source": [
    "mu_stds = []\n",
    "for i in range(num_classes):\n",
    "    pos_mu, pos_std = fit(seen_train_X_pred[y_train_dec==i,i])\n",
    "    mu_stds.append([pos_mu, pos_std])"
   ]
  },
  {
   "cell_type": "code",
   "execution_count": 46,
   "metadata": {},
   "outputs": [
    {
     "name": "stdout",
     "output_type": "stream",
     "text": [
      "[[1.0, 0.49104826562208564], [1.0, 0.5066123236926862], [1.0, 0.5085201890274934], [1.0, 0.4987507999851693], [1.0, 0.5009499893339773], [1.0, 0.5079735590743689], [1.0, 0.49575559993669993], [1.0, 0.48907559402482914], [1.0, 0.49499169912961605], [1.0, 0.49519171160294567], [1.0, 0.4873148220049561]]\n"
     ]
    }
   ],
   "source": [
    "print(mu_stds)"
   ]
  },
  {
   "cell_type": "code",
   "execution_count": 12,
   "metadata": {},
   "outputs": [],
   "source": [
    "# Predict on test examples\n",
    "test_X_pred = model.predict(np.concatenate([X_test, X_unseen], axis=0))[1]\n",
    "test_y_gt = np.concatenate([[np.argmax(encoded) for encoded in y_test], [num_classes for _ in X_unseen]], axis=0)"
   ]
  },
  {
   "cell_type": "code",
   "execution_count": 48,
   "metadata": {},
   "outputs": [],
   "source": [
    "# get reject prediction based on threshold\n",
    "test_y_pred = []\n",
    "scale = 1.\n",
    "for p in test_X_pred:\n",
    "    max_class = np.argmax(p)\n",
    "    max_value = np.max(p)\n",
    "    threshold = max(0.5, 1. - scale * mu_stds[max_class][1])\n",
    "    if max_value > threshold:\n",
    "        test_y_pred.append(max_class)\n",
    "    else:\n",
    "        test_y_pred.append(num_classes)"
   ]
  },
  {
   "cell_type": "code",
   "execution_count": 25,
   "metadata": {},
   "outputs": [],
   "source": [
    "from sklearn.metrics import precision_recall_fscore_support"
   ]
  },
  {
   "cell_type": "code",
   "execution_count": 26,
   "metadata": {},
   "outputs": [
    {
     "name": "stdout",
     "output_type": "stream",
     "text": [
      "macro fscore: 0.1976192520606971\n"
     ]
    }
   ],
   "source": [
    "precision, recall, fscore, _ = precision_recall_fscore_support(test_y_gt, test_y_pred)\n",
    "print('macro fscore:', np.mean(fscore))"
   ]
  },
  {
   "cell_type": "code",
   "execution_count": 13,
   "metadata": {},
   "outputs": [
    {
     "name": "stdout",
     "output_type": "stream",
     "text": [
      "(557, 11) (557,)\n",
      "11\n"
     ]
    },
    {
     "ename": "IndexError",
     "evalue": "too many indices for array",
     "output_type": "error",
     "traceback": [
      "\u001b[0;31m---------------------------------------------------------------------------\u001b[0m",
      "\u001b[0;31mIndexError\u001b[0m                                Traceback (most recent call last)",
      "\u001b[0;32m<ipython-input-13-c08dac7a20c9>\u001b[0m in \u001b[0;36m<module>\u001b[0;34m\u001b[0m\n\u001b[1;32m      5\u001b[0m \u001b[0mprint\u001b[0m\u001b[0;34m(\u001b[0m\u001b[0mseen_train_X_pred\u001b[0m\u001b[0;34m.\u001b[0m\u001b[0mshape\u001b[0m\u001b[0;34m,\u001b[0m \u001b[0my_train_dec\u001b[0m\u001b[0;34m.\u001b[0m\u001b[0mshape\u001b[0m\u001b[0;34m)\u001b[0m\u001b[0;34m\u001b[0m\u001b[0;34m\u001b[0m\u001b[0m\n\u001b[1;32m      6\u001b[0m \u001b[0mprint\u001b[0m\u001b[0;34m(\u001b[0m\u001b[0mnum_classes\u001b[0m\u001b[0;34m)\u001b[0m\u001b[0;34m\u001b[0m\u001b[0;34m\u001b[0m\u001b[0m\n\u001b[0;32m----> 7\u001b[0;31m \u001b[0mtest_y_pred\u001b[0m \u001b[0;34m=\u001b[0m \u001b[0mtools\u001b[0m\u001b[0;34m.\u001b[0m\u001b[0mgetRejectPredictions\u001b[0m\u001b[0;34m(\u001b[0m\u001b[0mnum_classes\u001b[0m\u001b[0;34m,\u001b[0m \u001b[0mtest_X_pred\u001b[0m\u001b[0;34m,\u001b[0m \u001b[0mtest_y_gt\u001b[0m\u001b[0;34m,\u001b[0m \u001b[0my_train\u001b[0m\u001b[0;34m)\u001b[0m\u001b[0;34m\u001b[0m\u001b[0;34m\u001b[0m\u001b[0m\n\u001b[0m\u001b[1;32m      8\u001b[0m \u001b[0mprecision\u001b[0m\u001b[0;34m,\u001b[0m \u001b[0mrecall\u001b[0m\u001b[0;34m,\u001b[0m \u001b[0mfscore\u001b[0m\u001b[0;34m,\u001b[0m \u001b[0m_\u001b[0m \u001b[0;34m=\u001b[0m \u001b[0mprecision_recall_fscore_support\u001b[0m\u001b[0;34m(\u001b[0m\u001b[0mtest_y_gt\u001b[0m\u001b[0;34m,\u001b[0m \u001b[0mtest_y_pred\u001b[0m\u001b[0;34m)\u001b[0m\u001b[0;34m\u001b[0m\u001b[0;34m\u001b[0m\u001b[0m\n",
      "\u001b[0;32m~/Development/SignLanguageRecognition/lab/tools.py\u001b[0m in \u001b[0;36mgetRejectPredictions\u001b[0;34m(num_classes, test_X_pred, seen_train_X_pred, y_train)\u001b[0m\n\u001b[1;32m     13\u001b[0m     \u001b[0mmu_stds\u001b[0m \u001b[0;34m=\u001b[0m \u001b[0;34m[\u001b[0m\u001b[0;34m]\u001b[0m\u001b[0;34m\u001b[0m\u001b[0;34m\u001b[0m\u001b[0m\n\u001b[1;32m     14\u001b[0m     \u001b[0;32mfor\u001b[0m \u001b[0mj\u001b[0m \u001b[0;32min\u001b[0m \u001b[0mrange\u001b[0m\u001b[0;34m(\u001b[0m\u001b[0mnum_classes\u001b[0m\u001b[0;34m)\u001b[0m\u001b[0;34m:\u001b[0m\u001b[0;34m\u001b[0m\u001b[0;34m\u001b[0m\u001b[0m\n\u001b[0;32m---> 15\u001b[0;31m         \u001b[0mprob_pos_X\u001b[0m \u001b[0;34m=\u001b[0m \u001b[0mseen_train_X_pred\u001b[0m\u001b[0;34m[\u001b[0m\u001b[0my_train_dec\u001b[0m\u001b[0;34m==\u001b[0m\u001b[0mj\u001b[0m\u001b[0;34m,\u001b[0m\u001b[0mj\u001b[0m\u001b[0;34m]\u001b[0m\u001b[0;34m\u001b[0m\u001b[0;34m\u001b[0m\u001b[0m\n\u001b[0m\u001b[1;32m     16\u001b[0m         \u001b[0mpos_mu\u001b[0m\u001b[0;34m,\u001b[0m \u001b[0mpos_std\u001b[0m \u001b[0;34m=\u001b[0m \u001b[0mfit\u001b[0m\u001b[0;34m(\u001b[0m\u001b[0mprob_pos_X\u001b[0m\u001b[0;34m)\u001b[0m\u001b[0;34m\u001b[0m\u001b[0;34m\u001b[0m\u001b[0m\n\u001b[1;32m     17\u001b[0m         \u001b[0mmu_stds\u001b[0m\u001b[0;34m.\u001b[0m\u001b[0mappend\u001b[0m\u001b[0;34m(\u001b[0m\u001b[0;34m[\u001b[0m\u001b[0mpos_mu\u001b[0m\u001b[0;34m,\u001b[0m \u001b[0mpos_std\u001b[0m\u001b[0;34m]\u001b[0m\u001b[0;34m)\u001b[0m\u001b[0;34m\u001b[0m\u001b[0;34m\u001b[0m\u001b[0m\n",
      "\u001b[0;31mIndexError\u001b[0m: too many indices for array"
     ]
    }
   ],
   "source": [
    "import tools\n",
    "seen_train_X_pred = np.array(model.predict(X_train)[1])\n",
    "test_X_pred = model.predict(np.concatenate([X_test, X_unseen], axis=0))[1]\n",
    "test_y_gt = np.concatenate([[np.argmax(encoded) for encoded in y_test], [num_classes for _ in X_unseen]], axis=0)\n",
    "print(seen_train_X_pred.shape, y_train_dec.shape)\n",
    "print(num_classes)\n",
    "test_y_pred = tools.getRejectPredictions(num_classes, test_X_pred, test_y_gt, y_train)\n",
    "precision, recall, fscore, _ = precision_recall_fscore_support(test_y_gt, test_y_pred)"
   ]
  },
  {
   "cell_type": "code",
   "execution_count": null,
   "metadata": {},
   "outputs": [],
   "source": []
  }
 ],
 "metadata": {
  "kernelspec": {
   "display_name": "Python 3",
   "language": "python",
   "name": "python3"
  },
  "language_info": {
   "codemirror_mode": {
    "name": "ipython",
    "version": 3
   },
   "file_extension": ".py",
   "mimetype": "text/x-python",
   "name": "python",
   "nbconvert_exporter": "python",
   "pygments_lexer": "ipython3",
   "version": "3.8.3"
  }
 },
 "nbformat": 4,
 "nbformat_minor": 4
}

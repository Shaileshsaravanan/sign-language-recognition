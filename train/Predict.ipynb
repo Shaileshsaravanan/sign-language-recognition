{
 "cells": [
  {
   "cell_type": "markdown",
   "metadata": {},
   "source": [
    "# Predict"
   ]
  },
  {
   "cell_type": "markdown",
   "metadata": {},
   "source": [
    "This is the notebook for loading and training models.\n",
    "Furthermore it provides simple documentation for different approaches used for training a model."
   ]
  },
  {
   "cell_type": "markdown",
   "metadata": {},
   "source": [
    "Run the command below to see command-completion on pressing `TAB`."
   ]
  },
  {
   "cell_type": "raw",
   "metadata": {},
   "source": [
    "%config IPCompleter.greedy=True"
   ]
  },
  {
   "cell_type": "markdown",
   "metadata": {},
   "source": [
    "### Imports"
   ]
  },
  {
   "cell_type": "code",
   "execution_count": 47,
   "metadata": {},
   "outputs": [],
   "source": [
    "# Imports\n",
    "import os\n",
    "import warnings\n",
    "import tensorflow as tf\n",
    "from tensorflow.keras.utils import to_categorical\n",
    "from tensorflow.keras.preprocessing import sequence\n",
    "from tensorflow.keras import layers, models\n",
    "from matplotlib import pyplot\n",
    "import numpy as np\n",
    "from sklearn.metrics import confusion_matrix\n",
    "import sklearn\n",
    "import wandb\n",
    "from data_repository import DataRepository\n",
    "\n",
    "# Ignore future warnings\n",
    "warnings.simplefilter(action='ignore', category=FutureWarning)"
   ]
  },
  {
   "cell_type": "code",
   "execution_count": 48,
   "metadata": {},
   "outputs": [
    {
     "name": "stdout",
     "output_type": "stream",
     "text": [
      "['Computer', 'Deutschland', 'du', 'Haben', 'Hallo', 'ich', 'Mainz', 'Software', 'unser', 'Welt', 'zeigen']\n"
     ]
    }
   ],
   "source": [
    "# Root CSV files directory\n",
    "#dirname = \"./data/absolute/live/\"\n",
    "dirname = \"./data/absolute/2D/\"\n",
    "#dirname = \"./data/absolute/modified/\" \n",
    "\n",
    "repo = DataRepository(dirname, verbose=False)\n",
    "\n",
    "x, y = repo.getDataAndLabels()\n",
    "\n",
    "# Load data and print summary, if desired\n",
    "#x_train, x_val, x_test, y_train, y_val, y_test, labels = repo.getForTraining()"
   ]
  },
  {
   "cell_type": "markdown",
   "metadata": {},
   "source": [
    "### Load Data"
   ]
  },
  {
   "cell_type": "code",
   "execution_count": 55,
   "metadata": {},
   "outputs": [
    {
     "name": "stdout",
     "output_type": "stream",
     "text": [
      "0.351603\n"
     ]
    },
    {
     "data": {
      "text/plain": [
       "(684, 100, 86)"
      ]
     },
     "execution_count": 55,
     "metadata": {},
     "output_type": "execute_result"
    }
   ],
   "source": [
    "\n",
    "#for i in range(0, len(x)):\n",
    "#   print(i, \" \" , x[i][2][2])\n",
    "\n",
    "print(x[0][3][2])\n",
    "\n",
    "\n",
    "\n",
    "x.shape\n",
    "\n",
    "#for i in range(0, len(x_train[7])):\n",
    "#    print(i, \" \" , x_train[7][i])\n"
   ]
  },
  {
   "cell_type": "code",
   "execution_count": 54,
   "metadata": {},
   "outputs": [
    {
     "name": "stdout",
     "output_type": "stream",
     "text": [
      "{'computer': 1, 'deutschland': 2, 'du': 3, 'haben': 4, 'hallo': 5, 'ich': 6, 'mainz': 7, 'software': 8, 'unser': 9, 'welt': 10, 'zeigen': 11}\n"
     ]
    }
   ],
   "source": [
    "with open('tokens_json.txt', 'r') as outfile:\n",
    "    json_ex = outfile.read()\n",
    "    \n",
    "\n",
    "tokenizer = tf.keras.preprocessing.text.tokenizer_from_json(json_ex)\n",
    "print(tokenizer.word_index)\n",
    "token_labels = {y:x for x,y in tokenizer.word_index.items()}"
   ]
  },
  {
   "cell_type": "code",
   "execution_count": 39,
   "metadata": {},
   "outputs": [
    {
     "name": "stdout",
     "output_type": "stream",
     "text": [
      "Num GPUs: 1\n"
     ]
    },
    {
     "name": "stderr",
     "output_type": "stream",
     "text": [
      "/home/michi/anaconda3/envs/tensor-gpu/lib/python3.8/site-packages/tensorflow/python/client/session.py:1751: UserWarning: An interactive session is already active. This can cause out-of-memory errors in some cases. You must explicitly call `InteractiveSession.close()` to release resources held by the other session(s).\n",
      "  warnings.warn('An interactive session is already active. This can '\n"
     ]
    }
   ],
   "source": [
    "physical_devices = tf.config.list_physical_devices('GPU') \n",
    "print(\"Num GPUs:\", len(physical_devices)) \n",
    "\n",
    "from tensorflow.compat.v1 import ConfigProto\n",
    "from tensorflow.compat.v1 import InteractiveSession\n",
    "\n",
    "config = ConfigProto()\n",
    "config.gpu_options.per_process_gpu_memory_fraction = 0.3\n",
    "config.gpu_options.allow_growth = True\n",
    "session = InteractiveSession(config=config)"
   ]
  },
  {
   "cell_type": "code",
   "execution_count": 40,
   "metadata": {},
   "outputs": [
    {
     "name": "stdout",
     "output_type": "stream",
     "text": [
      "Model: \"sequential\"\n",
      "_________________________________________________________________\n",
      "Layer (type)                 Output Shape              Param #   \n",
      "=================================================================\n",
      "lstm (LSTM)                  (None, 100, 64)           38656     \n",
      "_________________________________________________________________\n",
      "lstm_1 (LSTM)                (None, 100, 256)          328704    \n",
      "_________________________________________________________________\n",
      "lstm_2 (LSTM)                (None, 100, 256)          525312    \n",
      "_________________________________________________________________\n",
      "lstm_3 (LSTM)                (None, 100, 256)          525312    \n",
      "_________________________________________________________________\n",
      "lstm_4 (LSTM)                (None, 256)               525312    \n",
      "_________________________________________________________________\n",
      "dense (Dense)                (None, 12)                3084      \n",
      "=================================================================\n",
      "Total params: 1,946,380\n",
      "Trainable params: 1,946,380\n",
      "Non-trainable params: 0\n",
      "_________________________________________________________________\n"
     ]
    }
   ],
   "source": [
    "model = tf.keras.models.load_model('model-best_2d.h5')\n",
    "model.summary()"
   ]
  },
  {
   "cell_type": "markdown",
   "metadata": {},
   "source": [
    "### Evaluate"
   ]
  },
  {
   "cell_type": "code",
   "execution_count": 41,
   "metadata": {},
   "outputs": [
    {
     "name": "stdout",
     "output_type": "stream",
     "text": [
      "1/1 - 0s - loss: 4.5792 - accuracy: 0.2500 - precision: 0.2500 - recall: 0.2500\n"
     ]
    }
   ],
   "source": [
    "eval = model.evaluate(x, y, verbose=2)"
   ]
  },
  {
   "cell_type": "code",
   "execution_count": 44,
   "metadata": {},
   "outputs": [
    {
     "name": "stdout",
     "output_type": "stream",
     "text": [
      "[ 5  5  8  5  5  5 10 10  9 10  2  7]\n"
     ]
    }
   ],
   "source": [
    "predict = model.predict(x)\n",
    "#print(predict)\n",
    "\n",
    "y_pred = np.array([np.argmax(pred) for pred in predict])\n",
    "\n",
    "y_pred_integer = np.argmax(predict, axis=1)\n",
    "y_integer = np.argmax(y, axis=1)\n",
    "\n",
    "print(y_pred_integer)\n",
    "\n",
    "y_pred_name = ([token_labels[p] for p in y_pred_integer])\n",
    "y_name = ([token_labels[p] for p in y_integer])\n"
   ]
  },
  {
   "cell_type": "code",
   "execution_count": 45,
   "metadata": {},
   "outputs": [
    {
     "data": {
      "text/plain": [
       "['hallo',\n",
       " 'hallo',\n",
       " 'software',\n",
       " 'hallo',\n",
       " 'hallo',\n",
       " 'hallo',\n",
       " 'welt',\n",
       " 'welt',\n",
       " 'unser',\n",
       " 'welt',\n",
       " 'deutschland',\n",
       " 'mainz']"
      ]
     },
     "execution_count": 45,
     "metadata": {},
     "output_type": "execute_result"
    }
   ],
   "source": [
    "y_pred_name"
   ]
  },
  {
   "cell_type": "code",
   "execution_count": 46,
   "metadata": {},
   "outputs": [
    {
     "data": {
      "text/plain": [
       "['hallo',\n",
       " 'hallo',\n",
       " 'hallo',\n",
       " 'hallo',\n",
       " 'zeigen',\n",
       " 'zeigen',\n",
       " 'zeigen',\n",
       " 'zeigen',\n",
       " 'zeigen',\n",
       " 'zeigen',\n",
       " 'zeigen',\n",
       " 'zeigen']"
      ]
     },
     "execution_count": 46,
     "metadata": {},
     "output_type": "execute_result"
    }
   ],
   "source": [
    "y_name "
   ]
  },
  {
   "cell_type": "code",
   "execution_count": null,
   "metadata": {},
   "outputs": [],
   "source": [
    "wandb.init(project=\"Test\", name=\"confusion\")"
   ]
  },
  {
   "cell_type": "code",
   "execution_count": null,
   "metadata": {},
   "outputs": [],
   "source": [
    "# Confusion Matrix\n",
    "#sklearn.metrics.plot_confusion_matrix(y_test_name, y_pred_name)\n",
    "wandb.sklearn.plot_confusion_matrix(y_train_name, y_pred_name)"
   ]
  },
  {
   "cell_type": "markdown",
   "metadata": {},
   "source": [
    "# TFLITE"
   ]
  },
  {
   "cell_type": "code",
   "execution_count": null,
   "metadata": {},
   "outputs": [],
   "source": [
    "x_test=np.array(x_test,dtype=np.float32)\n",
    "\n",
    "\n",
    "print(type(x_train[0][0][0]))\n",
    "print(type(x_test[0][0][0]))\n"
   ]
  },
  {
   "cell_type": "code",
   "execution_count": null,
   "metadata": {},
   "outputs": [],
   "source": [
    "import numpy as np\n",
    "import tensorflow as tf\n",
    "from time import time\n",
    "\n",
    "# Load TFLite model and allocate tensors.\n",
    "interpreter = tf.lite.Interpreter(model_path=\"sign_lang_recognition_2D.tflite\")\n",
    "interpreter.allocate_tensors()\n",
    "\n",
    "# Get input and output tensors.\n",
    "input_details = interpreter.get_input_details()\n",
    "output_details = interpreter.get_output_details()\n",
    "\n",
    "print(input_details)\n",
    "\n",
    "\n",
    "input_shape = input_details[0]['shape']\n",
    "time1= time()\n",
    "input_data = [1]\n",
    "predictions = []\n",
    "\n",
    "input_details[0][\"index\"]\n",
    "\n",
    "for x_pred in x_test:\n",
    "    \n",
    "    input_data[0] = x_pred\n",
    "    interpreter.set_tensor(input_details[0]['index'], input_data)\n",
    "\n",
    "    interpreter.invoke()\n",
    "\n",
    "# The function `get_tensor()` returns a copy of the tensor data.\n",
    "# Use `tensor()` in order to get a pointer to the tensor.\n",
    "    output_data = interpreter.get_tensor(output_details[0]['index'])\n",
    "    predictions.append(np.argmax(output_data))\n",
    "    \n",
    "predictions = [token_labels[p] for p in predictions]"
   ]
  },
  {
   "cell_type": "code",
   "execution_count": null,
   "metadata": {
    "scrolled": false
   },
   "outputs": [],
   "source": [
    "for i in range(0, len(predictions)):\n",
    "    print('keras: ',y_pred_name[i],  predictions[i])"
   ]
  },
  {
   "cell_type": "code",
   "execution_count": null,
   "metadata": {},
   "outputs": [],
   "source": [
    "print(\"Predictions:\", predictions)\n",
    "time2= time()\n",
    "dauer = time2 - time1\n",
    "print(\"Anzahl Samples: \", len(predictions))\n",
    "print(\"Predictiondauer: \", dauer)\n",
    "print(\"Samples pro Sekunde:\", (len(predictions)/dauer))"
   ]
  },
  {
   "cell_type": "code",
   "execution_count": null,
   "metadata": {},
   "outputs": [],
   "source": [
    "print(input_data)"
   ]
  },
  {
   "cell_type": "code",
   "execution_count": null,
   "metadata": {},
   "outputs": [],
   "source": []
  }
 ],
 "metadata": {
  "kernelspec": {
   "display_name": "tensor-gpu",
   "language": "python",
   "name": "tensor-gpu"
  },
  "language_info": {
   "codemirror_mode": {
    "name": "ipython",
    "version": 3
   },
   "file_extension": ".py",
   "mimetype": "text/x-python",
   "name": "python",
   "nbconvert_exporter": "python",
   "pygments_lexer": "ipython3",
   "version": "3.8.3"
  }
 },
 "nbformat": 4,
 "nbformat_minor": 2
}
